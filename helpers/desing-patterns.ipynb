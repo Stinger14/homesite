{
 "cells": [
  {
   "cell_type": "markdown",
   "id": "47e7f939-a37e-4f31-a63d-21c6fc06d962",
   "metadata": {},
   "source": [
    "# Design patterns implemented in python"
   ]
  },
  {
   "cell_type": "markdown",
   "id": "ddae4611-2b91-4728-9263-efe9570774fe",
   "metadata": {},
   "source": [
    "## [Creational Patterns]"
   ]
  },
  {
   "cell_type": "markdown",
   "id": "65063f18-bb93-4cd0-b2b0-ca540ae9af4f",
   "metadata": {
    "jp-MarkdownHeadingCollapsed": true
   },
   "source": [
    "### Factory"
   ]
  },
  {
   "cell_type": "markdown",
   "id": "dbebbca5-a8dc-4204-8800-eea4834c9813",
   "metadata": {},
   "source": [
    "Abstracts the instantiation process so that there is a logical separation between how objects are composed and finally represented."
   ]
  },
  {
   "cell_type": "markdown",
   "id": "aa3db80b-1338-468a-8d6d-02bb7f1c4ab1",
   "metadata": {},
   "source": [
    "#### Factory Keypoints"
   ]
  },
  {
   "cell_type": "markdown",
   "id": "85978abd-7397-4693-8caa-f3ea5e47ffff",
   "metadata": {},
   "source": [
    "- The Factory Pattern is an Interface that defers the creation of the final object to a subclass.\n",
    "- The Factory pattern is about inserting another layer/abstraction between instantiating an object and where in your code it is actually used.\n",
    "- It is unknown what or how many objects will need to be created until runtime.\n",
    "- You want to localize knowledge of the specifics of instantiating a particular object to the subclass so that the client doesn't need to be concerned about the details.\n",
    "- You want to create an external framework, that an application can import/reference, and hide the details of the specifics involved in creating the final object/product.\n",
    "- The unique factor that defines the Factory pattern, is that your project now defers the creation of objects to the subclass that the factory had delegated it to.\n",
    "\n",
    "Overall **the Factory Pattern is really about adding that extra abstraction between the object creation and where it is used**. This gives you extra options that you can more easily extend in the future.\n",
    "\n",
    "#### Terminology\n",
    "\n",
    "- **Concrete Creator**: The client application, class or method that calls the Creator (Factory method).\n",
    "- **Product Interface**: The interface describing the attributes and methods that the Factory will require in order to create the final product/object.\n",
    "- **Creator**: The Factory class. Declares the Factory method that will return the object requested from it.\n",
    "- **Concrete Product**: The object returned from the Factory. The object implements the Product interface.\n"
   ]
  },
  {
   "cell_type": "markdown",
   "id": "38df988b-dae7-4a4b-947a-de27b206815d",
   "metadata": {
    "jp-MarkdownHeadingCollapsed": true
   },
   "source": [
    "#### POC"
   ]
  },
  {
   "cell_type": "code",
   "execution_count": 4,
   "id": "aecbeddf-c2d8-46e2-bbbf-ad0daa3d73c9",
   "metadata": {},
   "outputs": [
    {
     "name": "stdout",
     "output_type": "stream",
     "text": [
      "ConcreteProductA\n"
     ]
    }
   ],
   "source": [
    "from abc import ABCMeta, abstractmethod\n",
    "\n",
    "\n",
    "class IProduct(metaclass=ABCMeta):\n",
    "    \"Class Interface (Product)\"\n",
    "\n",
    "    @staticmethod \n",
    "    @abstractmethod\n",
    "    def create_object():\n",
    "        \"An abstract interface method\"\n",
    "\n",
    "\n",
    "class ConcreteProductA(IProduct):\n",
    "    \"A Concrete Class that implements the IProduct interface\"\n",
    "    def __init__(self):\n",
    "        self.name = \"ConcreteProductA\"\n",
    "        \n",
    "    def create_object(self): \n",
    "        return self\n",
    "\n",
    "\n",
    "class ConcreteProductB(IProduct):\n",
    "    \"A Concrete Class that implements the IProduct interface\"\n",
    "    def __init__(self):\n",
    "        self.name = \"ConcreteProductB\"\n",
    "    \n",
    "    def create_object(self): \n",
    "        return self\n",
    "\n",
    "\n",
    "class ConcreteProductC(IProduct):\n",
    "    \"A Concrete Class that implements the IProduct interface\"\n",
    "    def __init__(self):\n",
    "        self.name = \"ConcreteProductC\"\n",
    "    \n",
    "    def create_object(self): \n",
    "        return self\n",
    "\n",
    "\n",
    "class Creator:\n",
    "    \"The Factory Class\"\n",
    "    \n",
    "    @staticmethod\n",
    "    def create_object(some_property):\n",
    "        \"A static method to get a concrete product\" \n",
    "        if some_property == 'a':\n",
    "            return ConcreteProductA() \n",
    "        if some_property == 'b':\n",
    "            return ConcreteProductB() \n",
    "        if some_property == 'c':\n",
    "            return ConcreteProductC() \n",
    "        return None\n",
    "\n",
    "# The Client\n",
    "PRODUCT = Creator().create_object('a')\n",
    "print(PRODUCT.name)"
   ]
  },
  {
   "cell_type": "markdown",
   "id": "f6086be2-d6ca-4094-a20c-ae80192da0f6",
   "metadata": {
    "jp-MarkdownHeadingCollapsed": true
   },
   "source": [
    "### Abstract Factory"
   ]
  },
  {
   "cell_type": "markdown",
   "id": "d30dc860-6a64-4a35-94ae-7282b14c8825",
   "metadata": {},
   "source": [
    "The Abstract Factory Pattern adds an abstraction layer over multiple other creational pattern implementations. In simple terms, think if it as a Factory that can return Factories."
   ]
  },
  {
   "cell_type": "markdown",
   "id": "5c54f6e9-493c-441f-96c8-c1d0087a46cd",
   "metadata": {},
   "source": [
    "#### Abstract Factory Keypoints"
   ]
  },
  {
   "cell_type": "markdown",
   "id": "6b933f81-3cb8-46dd-956c-d1548ef1e26e",
   "metadata": {},
   "source": [
    "- Use when you want to provide a library of relatively similar products from multiple different factories.\n",
    "- You want the system to be independent of how the products are created.\n",
    "- It fulfills all of the same use cases as the Factory method, but is a factory for creational pattern type methods.\n",
    "- The client implements the abstract factory interface, rather than all the internal logic and Factories. This allows the possibility of creating a library that can be imported for using the Abstract Factory.\n",
    "- The Abstract Factory defers the creation of the final products/objects to its concrete factory subclasses.\n",
    "- You want to enforce consistent interfaces across products.\n",
    "- You want the possibility to exchange product families."
   ]
  },
  {
   "cell_type": "markdown",
   "id": "c64fca54-03b0-42a6-87c1-9beb47d08495",
   "metadata": {},
   "source": [
    "#### POC"
   ]
  },
  {
   "cell_type": "markdown",
   "id": "641fae75-e645-48ff-b73b-b99b93ecf703",
   "metadata": {},
   "source": [
    "Source Code in github repo."
   ]
  },
  {
   "cell_type": "markdown",
   "id": "7e17db2f-3da7-48b7-9c78-c6168a51ee2f",
   "metadata": {
    "jp-MarkdownHeadingCollapsed": true
   },
   "source": [
    "### Builder"
   ]
  },
  {
   "cell_type": "markdown",
   "id": "aecc2e3e-bb9b-4b6d-a20a-2c4ee6e14bb0",
   "metadata": {},
   "source": [
    "The Builder Pattern is a creational pattern whose intent is to separate the construction of a complex object from its representation so that you can use the same construction process to create different representations."
   ]
  },
  {
   "cell_type": "markdown",
   "id": "e914771b-1033-4af8-91ed-bfe201992c5c",
   "metadata": {},
   "source": [
    "#### Builder Keypoints\n",
    "\n",
    "- The Builder pattern is a creational pattern that is used to create more complex objects than you'd expect from a factory.\n",
    "- The Builder pattern should be able to construct complex objects in any order and include/ exclude whichever available components it likes.\n",
    "- For different combinations of products than can be returned from a Builder, use a specific Director to create the bespoke combination.\n",
    "- You can use an Abstract Factory to add an abstraction between the client and Director.\n",
    "\n",
    "#### Terminology\n",
    "- **Product**: The Product being built.\n",
    "- **Builder Interface**: The Interface that the Concrete builder should implement.\n",
    "- **Builder**: Provides methods to build and retrieve the concrete product. Implements the Builder Interface.\n",
    "- **Director**: Has a construct() method that when called creates a customized product using the methods of the Builder."
   ]
  },
  {
   "cell_type": "markdown",
   "id": "2705ca9b-6484-4ea3-958e-16c82d08989a",
   "metadata": {},
   "source": [
    "#### POC"
   ]
  },
  {
   "cell_type": "markdown",
   "id": "c97dac74-4614-4cd9-a26f-e33e21a6dabe",
   "metadata": {},
   "source": [
    "Source Code in github repo."
   ]
  },
  {
   "cell_type": "markdown",
   "id": "edc37ce0-1634-48e2-86f4-67745c5d0ee7",
   "metadata": {},
   "source": [
    "## [Structural Patterns]"
   ]
  },
  {
   "cell_type": "markdown",
   "id": "3d1216fe-e7cc-421e-a18a-5ab7d220205f",
   "metadata": {
    "jp-MarkdownHeadingCollapsed": true
   },
   "source": [
    "### Decorator"
   ]
  },
  {
   "cell_type": "markdown",
   "id": "f5ed8e17-4268-4047-97fe-c0b793832f4b",
   "metadata": {},
   "source": [
    "The **decorator pattern** is a structural pattern, that allows you to attach additional responsibilities to an object at runtime.\n",
    "\n",
    "The decorator pattern is different than the Python language feature of **Python Decorators** in its syntax and complete purpose. It is a similar concept in the way that it is a wrapper, but it also can be applied at runtime dynamically.\n",
    "\n",
    "The decorator pattern adds extensibility without modifying the original object."
   ]
  },
  {
   "cell_type": "markdown",
   "id": "defe3fbf-cb23-455b-8578-f637909c25bb",
   "metadata": {
    "jp-MarkdownHeadingCollapsed": true
   },
   "source": [
    "#### Decorator Keypoints\n",
    "\n",
    "- Use the decorator when you want to add responsibilities to objects dynamically without affecting the inner object.\n",
    "- You want the option to later remove the decorator from an object in case you no longer need it.\n",
    "- It is an alternative method to creating multiple combinations of subclasses. I.e., Instead of creating a subclass with all combinations of objects A, B, C in any order, and including/ excluding objects, you could create 3 objects that can decorate each other in any order you want. E.g., (D(A(C))) or (B(C)) or (A(B(A(C)))\n",
    "- The decorator, compared to using static inheritance to extend, is more flexible since you can easily add/remove the decorators at runtime. E.g., use in a recursive function.\n",
    "- A decorator supports recursive composition. E.g., halve(halve(number))\n",
    "- A decorator shouldn't modify the internal objects data or references. This allows the original object to stay intact if the decorator is later removed."
   ]
  },
  {
   "cell_type": "markdown",
   "id": "ab1cb45c-c0bd-4a60-9e05-365985273915",
   "metadata": {
    "jp-MarkdownHeadingCollapsed": true
   },
   "source": [
    "#### Poc"
   ]
  },
  {
   "cell_type": "code",
   "execution_count": 6,
   "id": "c847b1bd-cf62-4b23-8b82-5aa79f6dfa55",
   "metadata": {},
   "outputs": [
    {
     "name": "stdout",
     "output_type": "stream",
     "text": [
      "Component Method\n",
      "Decorator Method(Component Method)\n"
     ]
    }
   ],
   "source": [
    "from abc import ABCMeta, abstractmethod\n",
    "\n",
    "\n",
    "class IComponent(metaclass=ABCMeta):\n",
    "    \"Methods the component must implement\"\n",
    "    @staticmethod \n",
    "    @abstractmethod \n",
    "    def method():\n",
    "        \"A method to implement\"\n",
    "\n",
    "\n",
    "class Component(IComponent):\n",
    "    \"A component that can be decorated or not\"\n",
    "    def method(self):\n",
    "        \"An example method\" \n",
    "        return \"Component Method\"\n",
    "\n",
    "\n",
    "class Decorator(IComponent):\n",
    "    \"The Decorator also implements the IComponent\"\n",
    "    def __init__(self, obj):\n",
    "        \"Set a reference to the decorated object\"\n",
    "        self.object = obj\n",
    "\n",
    "    def method(self):\n",
    "        \"A method to implement\"\n",
    "        return f\"Decorator Method({self.object.method()})\"\n",
    "\n",
    "# Output\n",
    "COMPONENT = Component() \n",
    "print(COMPONENT.method()) \n",
    "print(Decorator(COMPONENT).method())\n"
   ]
  },
  {
   "cell_type": "code",
   "execution_count": null,
   "id": "12474907-39bc-4c82-bfbd-44958bc6bc57",
   "metadata": {},
   "outputs": [],
   "source": []
  }
 ],
 "metadata": {
  "kernelspec": {
   "display_name": "Python 3 (ipykernel)",
   "language": "python",
   "name": "python3"
  },
  "language_info": {
   "codemirror_mode": {
    "name": "ipython",
    "version": 3
   },
   "file_extension": ".py",
   "mimetype": "text/x-python",
   "name": "python",
   "nbconvert_exporter": "python",
   "pygments_lexer": "ipython3",
   "version": "3.10.5"
  }
 },
 "nbformat": 4,
 "nbformat_minor": 5
}
