{
 "cells": [
  {
   "cell_type": "markdown",
   "id": "045a554c-cbc1-4ae5-af7f-256d730a4161",
   "metadata": {},
   "source": [
    "# Review key concepts of previous work experience in software development"
   ]
  },
  {
   "cell_type": "markdown",
   "id": "5d155dbf-a9b7-4e9c-b7b1-1bca41682fda",
   "metadata": {},
   "source": [
    "---"
   ]
  },
  {
   "cell_type": "markdown",
   "id": "27c060a1-72b1-4b0b-8385-fc6ad2831beb",
   "metadata": {},
   "source": [
    "### Topics\n",
    "\n",
    "- AWS services\n",
    "  - EC2\n",
    "  - ECS\n",
    "  - S3\n",
    "  - Lambda\n",
    "- AWS best practices\n",
    "- GraphQL\n",
    "- API Gateway\n",
    "- Serverless deployment automation\n",
    "- Cognito\n",
    "- Distributed Systems [most common pains]\n",
    "- FastAPI\n",
    "- Kubernetes"
   ]
  },
  {
   "cell_type": "markdown",
   "id": "3b82327f-4f39-420d-b5b2-4b630189d94b",
   "metadata": {},
   "source": [
    "---"
   ]
  },
  {
   "cell_type": "code",
   "execution_count": null,
   "id": "acfd45f1-ceff-4386-9069-e85bf8e456cb",
   "metadata": {},
   "outputs": [],
   "source": []
  }
 ],
 "metadata": {
  "kernelspec": {
   "display_name": "Python 3 (ipykernel)",
   "language": "python",
   "name": "python3"
  },
  "language_info": {
   "codemirror_mode": {
    "name": "ipython",
    "version": 3
   },
   "file_extension": ".py",
   "mimetype": "text/x-python",
   "name": "python",
   "nbconvert_exporter": "python",
   "pygments_lexer": "ipython3",
   "version": "3.10.5"
  }
 },
 "nbformat": 4,
 "nbformat_minor": 5
}
