{
 "cells": [
  {
   "cell_type": "markdown",
   "id": "8195db87-806c-4d98-8c14-0f479361de67",
   "metadata": {},
   "source": [
    "# Tree Validator"
   ]
  },
  {
   "cell_type": "markdown",
   "id": "174dc8e6-4fa0-4253-b200-ad0af50341c4",
   "metadata": {},
   "source": [
    "#### Validates if the given list of strings represents a valid binary tree.\n",
    "\n",
    "**[Args]** \n",
    "\n",
    "strArr (list): A list of strings representing the relationships between nodes in the binary tree. Each string in the list should be in the format \"(child, parent)\".\n",
    "\n",
    "**[Returns]** \n",
    "\n",
    "bool: True if the given list represents a valid binary tree, False otherwise."
   ]
  },
  {
   "cell_type": "code",
   "execution_count": 9,
   "id": "30293eab-c6eb-40e8-8ed6-09a390ecc195",
   "metadata": {},
   "outputs": [
    {
     "name": "stdout",
     "output_type": "stream",
     "text": [
      "False\n"
     ]
    }
   ],
   "source": [
    "def treeConstructor(strArr):\n",
    "    parent_list = []\n",
    "    for node in strArr:\n",
    "        child, parent = eval(node)\n",
    "        parent_list.append(parent)\n",
    "        if parent_list.count(parent) > 2:\n",
    "            return False\n",
    "    return True\n",
    "\n",
    "print(treeConstructor([\"(1,2)\", \"(2,4)\", \"(5,7)\", \"(7,2)\", \"(9,2)\"]))"
   ]
  },
  {
   "cell_type": "markdown",
   "id": "b345b2d2-6afa-4280-9e31-6c06bda854d0",
   "metadata": {},
   "source": [
    "---"
   ]
  },
  {
   "cell_type": "markdown",
   "id": "d9eb0804-2c72-483a-a298-02c40fc9a16b",
   "metadata": {},
   "source": [
    "# Pythonic Deck of Cards"
   ]
  },
  {
   "cell_type": "markdown",
   "id": "57058691-68db-4e38-8907-218a01b5769e",
   "metadata": {},
   "source": [
    "#### A class representing a custom deck of cards."
   ]
  },
  {
   "cell_type": "markdown",
   "id": "7cca36a3-5f0c-46b2-ad70-c7c108c131fd",
   "metadata": {},
   "source": [
    "**[Attributes]**\n",
    "\n",
    "- ranks (list): A list of card ranks.\n",
    "- suits (list): A list of card suits.\n",
    "- _cards (list): A list of Card objects representing the deck of cards.\n",
    "\n",
    "**[Methods]**\n",
    "- ```__init__()```: Initializes a new instance of the CustomDeck class.\n",
    "- ```__len__()```: Returns the number of cards in the deck.\n",
    "- ```__getitem__(position)```: Returns the card at the specified position in the deck."
   ]
  },
  {
   "cell_type": "code",
   "execution_count": 12,
   "id": "cc4fc624-f408-48e4-8beb-fc74c0fecc31",
   "metadata": {},
   "outputs": [],
   "source": [
    "import collections\n",
    "import random\n",
    "\n",
    "Card = collections.namedtuple('Card', ['rank', 'suit'])\n",
    "\n",
    "class CustomDeck:\n",
    "    ranks = [str(n) for n in range(2,11)] + list('JQKA')\n",
    "    suits = 'spades diamonds clubs hearts'.split()\n",
    "\n",
    "    def __init__(self):\n",
    "        self._cards = [Card(rank, suit) for rank in self.ranks for suit in self.suits]\n",
    "\n",
    "    def __len__(self):\n",
    "        return len(self._cards)\n",
    "\n",
    "    def __getitem__(self, pos):\n",
    "        return self._cards[pos]\n",
    "\n",
    "    def shuffle(self):\n",
    "        for i in range(len(self._cards)):\n",
    "            swapIndex = random.randint(0, len(self._cards) - 1)\n",
    "            self._cards[i], self._cards[swapIndex] = self._cards[swapIndex], self._cards[i]\n",
    "            "
   ]
  },
  {
   "cell_type": "code",
   "execution_count": 13,
   "id": "0ff3016e-59f9-4705-9645-22382db1cde5",
   "metadata": {},
   "outputs": [],
   "source": [
    "deck = CustomDeck()"
   ]
  },
  {
   "cell_type": "code",
   "execution_count": 14,
   "id": "5055b7ed-3098-48a8-88de-2684e1142178",
   "metadata": {},
   "outputs": [
    {
     "name": "stdout",
     "output_type": "stream",
     "text": [
      "52\n"
     ]
    }
   ],
   "source": [
    "print(len(deck))"
   ]
  },
  {
   "cell_type": "code",
   "execution_count": 19,
   "id": "8c6e402d-9927-4f2b-a039-0ea7e1ad5934",
   "metadata": {},
   "outputs": [],
   "source": [
    "deck.shuffle()"
   ]
  },
  {
   "cell_type": "code",
   "execution_count": 20,
   "id": "11152ca9-8a97-4673-ba82-88ba66cc6ebe",
   "metadata": {},
   "outputs": [
    {
     "data": {
      "text/plain": [
       "[Card(rank='9', suit='hearts'),\n",
       " Card(rank='9', suit='clubs'),\n",
       " Card(rank='4', suit='spades'),\n",
       " Card(rank='A', suit='hearts'),\n",
       " Card(rank='4', suit='hearts'),\n",
       " Card(rank='Q', suit='spades'),\n",
       " Card(rank='9', suit='spades'),\n",
       " Card(rank='J', suit='spades'),\n",
       " Card(rank='2', suit='diamonds'),\n",
       " Card(rank='K', suit='spades'),\n",
       " Card(rank='K', suit='clubs'),\n",
       " Card(rank='J', suit='clubs'),\n",
       " Card(rank='A', suit='spades'),\n",
       " Card(rank='10', suit='spades'),\n",
       " Card(rank='3', suit='clubs'),\n",
       " Card(rank='6', suit='spades'),\n",
       " Card(rank='2', suit='clubs'),\n",
       " Card(rank='7', suit='clubs'),\n",
       " Card(rank='8', suit='hearts'),\n",
       " Card(rank='K', suit='diamonds'),\n",
       " Card(rank='7', suit='spades'),\n",
       " Card(rank='J', suit='diamonds'),\n",
       " Card(rank='Q', suit='hearts'),\n",
       " Card(rank='Q', suit='clubs'),\n",
       " Card(rank='5', suit='spades'),\n",
       " Card(rank='Q', suit='diamonds'),\n",
       " Card(rank='5', suit='hearts'),\n",
       " Card(rank='2', suit='spades'),\n",
       " Card(rank='K', suit='hearts'),\n",
       " Card(rank='4', suit='diamonds'),\n",
       " Card(rank='8', suit='spades'),\n",
       " Card(rank='A', suit='diamonds'),\n",
       " Card(rank='10', suit='diamonds'),\n",
       " Card(rank='J', suit='hearts'),\n",
       " Card(rank='4', suit='clubs'),\n",
       " Card(rank='7', suit='hearts'),\n",
       " Card(rank='7', suit='diamonds'),\n",
       " Card(rank='9', suit='diamonds'),\n",
       " Card(rank='6', suit='hearts'),\n",
       " Card(rank='8', suit='clubs'),\n",
       " Card(rank='3', suit='diamonds'),\n",
       " Card(rank='3', suit='spades'),\n",
       " Card(rank='2', suit='hearts'),\n",
       " Card(rank='6', suit='diamonds'),\n",
       " Card(rank='10', suit='clubs'),\n",
       " Card(rank='8', suit='diamonds'),\n",
       " Card(rank='A', suit='clubs'),\n",
       " Card(rank='5', suit='diamonds'),\n",
       " Card(rank='6', suit='clubs'),\n",
       " Card(rank='5', suit='clubs'),\n",
       " Card(rank='10', suit='hearts'),\n",
       " Card(rank='3', suit='hearts')]"
      ]
     },
     "execution_count": 20,
     "metadata": {},
     "output_type": "execute_result"
    }
   ],
   "source": [
    "deck._cards"
   ]
  },
  {
   "cell_type": "markdown",
   "id": "b35de804-cb31-4af0-b8fa-e0bbf3a6430d",
   "metadata": {},
   "source": [
    "---"
   ]
  },
  {
   "cell_type": "markdown",
   "id": "d1398d95-2df9-402b-bc91-9c4c1add80f7",
   "metadata": {},
   "source": [
    "# Bisect's insort"
   ]
  },
  {
   "cell_type": "markdown",
   "id": "4037ebf2-41fd-412a-9304-f397dd217d4c",
   "metadata": {},
   "source": [
    "#### insert items into a sorted list.\n",
    "\n",
    "The script generates a random list of numbers and inserts them into the list \n",
    "in sorted order using the bisect.insort() function. The sorted list is printed after each insertion.\n",
    "\n",
    "**[Parameters]**:\n",
    "\n",
    "- SIZE: The number of items to generate and insert into the list."
   ]
  },
  {
   "cell_type": "code",
   "execution_count": 22,
   "id": "9d811925-50ba-45bb-9f33-94b8472875f4",
   "metadata": {},
   "outputs": [
    {
     "name": "stdout",
     "output_type": "stream",
     "text": [
      "210 -> [10]\n",
      "20 -> [0, 10]\n",
      "26 -> [0, 6, 10]\n",
      "28 -> [0, 6, 8, 10]\n",
      "27 -> [0, 6, 7, 8, 10]\n",
      "22 -> [0, 2, 6, 7, 8, 10]\n",
      "210 -> [0, 2, 6, 7, 8, 10, 10]\n"
     ]
    }
   ],
   "source": [
    "import bisect, random\n",
    "\n",
    "SIZE = 7\n",
    "random.seed(1729)\n",
    "\n",
    "my_list = []\n",
    "\n",
    "for i in range(SIZE):\n",
    "    new_item = random.randrange(SIZE*2)\n",
    "    bisect.insort(my_list, new_item)\n",
    "    print('2%d ->' % new_item, my_list)"
   ]
  },
  {
   "cell_type": "markdown",
   "id": "87342ae2-9322-4b0e-98fb-d13cc6cb9f54",
   "metadata": {},
   "source": [
    "---"
   ]
  },
  {
   "cell_type": "markdown",
   "id": "a2e943c5-5e12-4144-8ccb-954a1dd4a491",
   "metadata": {},
   "source": [
    "# Bracket Combinations"
   ]
  },
  {
   "cell_type": "markdown",
   "id": "cdfab246-df56-497c-b971-738ff642ad06",
   "metadata": {},
   "source": [
    "### Calculates the number of valid bracket combinations given a number of pairs.\n",
    "\n",
    "**[Args]**\n",
    "\n",
    "num (int): The number of pairs of brackets.\n",
    "\n",
    "**[Returns]**\n",
    "        \n",
    "int: The number of valid bracket combinations.\n",
    "\n",
    "**[Raises]**\n",
    "\n",
    "ValueError: If the input number is negative."
   ]
  },
  {
   "cell_type": "code",
   "execution_count": 26,
   "id": "5f0ef73b-3f18-4291-ad38-e12a668db1ee",
   "metadata": {},
   "outputs": [
    {
     "name": "stdout",
     "output_type": "stream",
     "text": [
      "1\n"
     ]
    }
   ],
   "source": [
    "from math import factorial\n",
    "\n",
    "def bracket_combinations(num):\n",
    "    if num < 0:\n",
    "        raise ValueError(\"Number of pairs cannot be negative.\")\n",
    "    return int(factorial(2 * num)/(factorial(num + 1)*(factorial(num))))\n",
    "\n",
    "print(bracket_combinations(1))"
   ]
  },
  {
   "cell_type": "code",
   "execution_count": null,
   "id": "47ae3fc8-1c7f-44e7-8186-7c6085086fb1",
   "metadata": {},
   "outputs": [],
   "source": []
  }
 ],
 "metadata": {
  "kernelspec": {
   "display_name": "Python 3 (ipykernel)",
   "language": "python",
   "name": "python3"
  },
  "language_info": {
   "codemirror_mode": {
    "name": "ipython",
    "version": 3
   },
   "file_extension": ".py",
   "mimetype": "text/x-python",
   "name": "python",
   "nbconvert_exporter": "python",
   "pygments_lexer": "ipython3",
   "version": "3.10.5"
  }
 },
 "nbformat": 4,
 "nbformat_minor": 5
}
