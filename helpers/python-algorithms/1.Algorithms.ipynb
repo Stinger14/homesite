{
 "cells": [
  {
   "cell_type": "markdown",
   "id": "8195db87-806c-4d98-8c14-0f479361de67",
   "metadata": {},
   "source": [
<<<<<<< HEAD
    "# Binary Tree Validator"
=======
    "## Tree Validator"
>>>>>>> d63e21f (feat: update general changes)
   ]
  },
  {
   "cell_type": "markdown",
   "id": "174dc8e6-4fa0-4253-b200-ad0af50341c4",
   "metadata": {},
   "source": [
    "#### Validates if the given list of strings represents a valid binary tree.\n",
    "\n",
    "**[Args]** \n",
    "\n",
    "strArr (list): A list of strings representing the relationships between nodes in the binary tree. Each string in the list should be in the format \"(child, parent)\".\n",
    "\n",
    "**[Returns]** \n",
    "\n",
    "bool: True if the given list represents a valid binary tree, False otherwise."
   ]
  },
  {
   "cell_type": "code",
   "execution_count": 9,
   "id": "30293eab-c6eb-40e8-8ed6-09a390ecc195",
   "metadata": {},
   "outputs": [
    {
     "name": "stdout",
     "output_type": "stream",
     "text": [
      "False\n"
     ]
    }
   ],
   "source": [
    "def treeConstructor(strArr):\n",
    "    parent_list = []\n",
    "    for node in strArr:\n",
    "        child, parent = eval(node)\n",
    "        parent_list.append(parent)\n",
    "        if parent_list.count(parent) > 2:\n",
    "            return False\n",
    "    return True\n",
    "\n",
    "print(treeConstructor([\"(1,2)\", \"(2,4)\", \"(5,7)\", \"(7,2)\", \"(9,2)\"]))"
   ]
  },
  {
   "cell_type": "markdown",
   "id": "b345b2d2-6afa-4280-9e31-6c06bda854d0",
   "metadata": {},
   "source": [
    "---"
   ]
  },
  {
   "cell_type": "markdown",
   "id": "d9eb0804-2c72-483a-a298-02c40fc9a16b",
   "metadata": {},
   "source": [
    "## Pythonic Deck of Cards"
   ]
  },
  {
   "cell_type": "markdown",
   "id": "57058691-68db-4e38-8907-218a01b5769e",
   "metadata": {},
   "source": [
    "#### A class representing a custom deck of cards."
   ]
  },
  {
   "cell_type": "markdown",
   "id": "7cca36a3-5f0c-46b2-ad70-c7c108c131fd",
   "metadata": {},
   "source": [
    "**[Attributes]**\n",
    "\n",
    "- ranks (list): A list of card ranks.\n",
    "- suits (list): A list of card suits.\n",
    "- _cards (list): A list of Card objects representing the deck of cards.\n",
    "\n",
    "**[Methods]**\n",
    "- ```__init__()```: Initializes a new instance of the CustomDeck class.\n",
    "- ```__len__()```: Returns the number of cards in the deck.\n",
    "- ```__getitem__(position)```: Returns the card at the specified position in the deck."
   ]
  },
  {
   "cell_type": "code",
   "execution_count": 12,
   "id": "cc4fc624-f408-48e4-8beb-fc74c0fecc31",
   "metadata": {},
   "outputs": [],
   "source": [
    "import collections\n",
    "import random\n",
    "\n",
    "Card = collections.namedtuple('Card', ['rank', 'suit'])\n",
    "\n",
    "class CustomDeck:\n",
    "    ranks = [str(n) for n in range(2,11)] + list('JQKA')\n",
    "    suits = 'spades diamonds clubs hearts'.split()\n",
    "\n",
    "    def __init__(self):\n",
    "        self._cards = [Card(rank, suit) for rank in self.ranks for suit in self.suits]\n",
    "\n",
    "    def __len__(self):\n",
    "        return len(self._cards)\n",
    "\n",
    "    def __getitem__(self, pos):\n",
    "        return self._cards[pos]\n",
    "\n",
    "    def shuffle(self):\n",
    "        for i in range(len(self._cards)):\n",
    "            swapIndex = random.randint(0, len(self._cards) - 1)\n",
    "            self._cards[i], self._cards[swapIndex] = self._cards[swapIndex], self._cards[i]\n",
    "            "
   ]
  },
  {
   "cell_type": "code",
   "execution_count": 13,
   "id": "0ff3016e-59f9-4705-9645-22382db1cde5",
   "metadata": {},
   "outputs": [],
   "source": [
    "deck = CustomDeck()"
   ]
  },
  {
   "cell_type": "code",
   "execution_count": 14,
   "id": "5055b7ed-3098-48a8-88de-2684e1142178",
   "metadata": {},
   "outputs": [
    {
     "name": "stdout",
     "output_type": "stream",
     "text": [
      "52\n"
     ]
    }
   ],
   "source": [
    "print(len(deck))"
   ]
  },
  {
   "cell_type": "code",
   "execution_count": 19,
   "id": "8c6e402d-9927-4f2b-a039-0ea7e1ad5934",
   "metadata": {},
   "outputs": [],
   "source": [
    "deck.shuffle()"
   ]
  },
  {
   "cell_type": "code",
   "execution_count": 20,
   "id": "11152ca9-8a97-4673-ba82-88ba66cc6ebe",
   "metadata": {},
   "outputs": [
    {
     "data": {
      "text/plain": [
       "[Card(rank='9', suit='hearts'),\n",
       " Card(rank='9', suit='clubs'),\n",
       " Card(rank='4', suit='spades'),\n",
       " Card(rank='A', suit='hearts'),\n",
       " Card(rank='4', suit='hearts'),\n",
       " Card(rank='Q', suit='spades'),\n",
       " Card(rank='9', suit='spades'),\n",
       " Card(rank='J', suit='spades'),\n",
       " Card(rank='2', suit='diamonds'),\n",
       " Card(rank='K', suit='spades'),\n",
       " Card(rank='K', suit='clubs'),\n",
       " Card(rank='J', suit='clubs'),\n",
       " Card(rank='A', suit='spades'),\n",
       " Card(rank='10', suit='spades'),\n",
       " Card(rank='3', suit='clubs'),\n",
       " Card(rank='6', suit='spades'),\n",
       " Card(rank='2', suit='clubs'),\n",
       " Card(rank='7', suit='clubs'),\n",
       " Card(rank='8', suit='hearts'),\n",
       " Card(rank='K', suit='diamonds'),\n",
       " Card(rank='7', suit='spades'),\n",
       " Card(rank='J', suit='diamonds'),\n",
       " Card(rank='Q', suit='hearts'),\n",
       " Card(rank='Q', suit='clubs'),\n",
       " Card(rank='5', suit='spades'),\n",
       " Card(rank='Q', suit='diamonds'),\n",
       " Card(rank='5', suit='hearts'),\n",
       " Card(rank='2', suit='spades'),\n",
       " Card(rank='K', suit='hearts'),\n",
       " Card(rank='4', suit='diamonds'),\n",
       " Card(rank='8', suit='spades'),\n",
       " Card(rank='A', suit='diamonds'),\n",
       " Card(rank='10', suit='diamonds'),\n",
       " Card(rank='J', suit='hearts'),\n",
       " Card(rank='4', suit='clubs'),\n",
       " Card(rank='7', suit='hearts'),\n",
       " Card(rank='7', suit='diamonds'),\n",
       " Card(rank='9', suit='diamonds'),\n",
       " Card(rank='6', suit='hearts'),\n",
       " Card(rank='8', suit='clubs'),\n",
       " Card(rank='3', suit='diamonds'),\n",
       " Card(rank='3', suit='spades'),\n",
       " Card(rank='2', suit='hearts'),\n",
       " Card(rank='6', suit='diamonds'),\n",
       " Card(rank='10', suit='clubs'),\n",
       " Card(rank='8', suit='diamonds'),\n",
       " Card(rank='A', suit='clubs'),\n",
       " Card(rank='5', suit='diamonds'),\n",
       " Card(rank='6', suit='clubs'),\n",
       " Card(rank='5', suit='clubs'),\n",
       " Card(rank='10', suit='hearts'),\n",
       " Card(rank='3', suit='hearts')]"
      ]
     },
     "execution_count": 20,
     "metadata": {},
     "output_type": "execute_result"
    }
   ],
   "source": [
    "deck._cards"
   ]
  },
  {
   "cell_type": "markdown",
   "id": "b35de804-cb31-4af0-b8fa-e0bbf3a6430d",
   "metadata": {},
   "source": [
    "---"
   ]
  },
  {
   "cell_type": "markdown",
   "id": "d1398d95-2df9-402b-bc91-9c4c1add80f7",
   "metadata": {},
   "source": [
    "## Bisect's insort"
   ]
  },
  {
   "cell_type": "markdown",
   "id": "4037ebf2-41fd-412a-9304-f397dd217d4c",
   "metadata": {},
   "source": [
    "#### insert items into a sorted list.\n",
    "\n",
    "The script generates a random list of numbers and inserts them into the list \n",
    "in sorted order using the bisect.insort() function. The sorted list is printed after each insertion.\n",
    "\n",
    "**[Parameters]**:\n",
    "\n",
    "- SIZE: The number of items to generate and insert into the list."
   ]
  },
  {
   "cell_type": "code",
   "execution_count": 1,
   "id": "9d811925-50ba-45bb-9f33-94b8472875f4",
   "metadata": {},
   "outputs": [
    {
     "name": "stdout",
     "output_type": "stream",
     "text": [
      "210 -> [10]\n",
      "20 -> [0, 10]\n",
      "26 -> [0, 6, 10]\n",
      "28 -> [0, 6, 8, 10]\n",
      "27 -> [0, 6, 7, 8, 10]\n",
      "22 -> [0, 2, 6, 7, 8, 10]\n",
      "210 -> [0, 2, 6, 7, 8, 10, 10]\n"
     ]
    }
   ],
   "source": [
    "import bisect, random\n",
    "\n",
    "SIZE = 7\n",
    "random.seed(1729)\n",
    "\n",
    "my_list = []\n",
    "\n",
    "for i in range(SIZE):\n",
    "    new_item = random.randrange(SIZE*2)\n",
    "    bisect.insort(my_list, new_item)\n",
    "    print('2%d ->' % new_item, my_list)"
   ]
  },
  {
   "cell_type": "markdown",
   "id": "87342ae2-9322-4b0e-98fb-d13cc6cb9f54",
   "metadata": {},
   "source": [
    "---"
   ]
  },
  {
   "cell_type": "markdown",
   "id": "a2e943c5-5e12-4144-8ccb-954a1dd4a491",
   "metadata": {},
   "source": [
    "## Bracket Combinations"
   ]
  },
  {
   "cell_type": "markdown",
   "id": "cdfab246-df56-497c-b971-738ff642ad06",
   "metadata": {},
   "source": [
    "### Calculates the number of valid bracket combinations given a number of pairs.\n",
    "\n",
    "**[Args]**\n",
    "\n",
    "num (int): The number of pairs of brackets.\n",
    "\n",
    "**[Returns]**\n",
    "        \n",
    "int: The number of valid bracket combinations.\n",
    "\n",
    "**[Raises]**\n",
    "\n",
    "ValueError: If the input number is negative."
   ]
  },
  {
   "cell_type": "code",
   "execution_count": 26,
   "id": "5f0ef73b-3f18-4291-ad38-e12a668db1ee",
   "metadata": {},
   "outputs": [
    {
     "name": "stdout",
     "output_type": "stream",
     "text": [
      "1\n"
     ]
    }
   ],
   "source": [
    "from math import factorial\n",
    "\n",
    "def bracket_combinations(num):\n",
    "    if num < 0:\n",
    "        raise ValueError(\"Number of pairs cannot be negative.\")\n",
    "    return int(factorial(2 * num)/(factorial(num + 1)*(factorial(num))))\n",
    "\n",
    "print(bracket_combinations(1))"
   ]
  },
  {
   "cell_type": "markdown",
<<<<<<< HEAD
   "id": "edcf1f3a-ea99-4b79-b718-219fd6c33b93",
   "metadata": {},
   "source": [
    "# FastAPI POC"
   ]
  },
  {
   "cell_type": "code",
   "execution_count": 13,
   "id": "8ccb20c6-378b-4aa5-9d5e-5fe269e34dac",
   "metadata": {},
   "outputs": [],
   "source": [
    "# %load main.py\n",
    "from typing import Union\n",
    "from fastapi import FastAPI\n",
    "\n",
    "app = FastAPI()\n",
    "\n",
    "@app.get(\"/\")\n",
    "async def root():\n",
    "    return {\"Hello\": \"World\"}\n",
    "\n",
    "@app.get(\"/items/{item_id}\")\n",
    "async def get_item(item_id: int, q: Union[str, None] = None):\n",
    "    return {\"item_id\": item_id, \"q\": q}\n"
   ]
  },
  {
   "cell_type": "code",
   "execution_count": 14,
   "id": "a6e860c9-1961-4418-ac4c-84fec794618e",
   "metadata": {},
   "outputs": [
    {
     "name": "stderr",
     "output_type": "stream",
     "text": [
      "INFO:     Started server process [203535]\n",
      "INFO:     Waiting for application startup.\n",
      "INFO:     Application startup complete.\n",
      "INFO:     Uvicorn running on http://127.0.0.1:8000 (Press CTRL+C to quit)\n"
     ]
    },
    {
     "name": "stdout",
     "output_type": "stream",
     "text": [
      "INFO:     127.0.0.1:38104 - \"GET /items/5?q=somequery HTTP/1.1\" 200 OK\n",
      "INFO:     127.0.0.1:46034 - \"GET / HTTP/1.1\" 200 OK\n",
      "INFO:     127.0.0.1:46034 - \"GET /items/5?q=somequery HTTP/1.1\" 200 OK\n",
      "INFO:     127.0.0.1:43566 - \"GET /docs HTTP/1.1\" 200 OK\n",
      "INFO:     127.0.0.1:43566 - \"GET /openapi.json HTTP/1.1\" 200 OK\n"
     ]
    },
    {
     "name": "stderr",
     "output_type": "stream",
     "text": [
      "INFO:     Shutting down\n",
      "INFO:     Waiting for application shutdown.\n",
      "INFO:     Application shutdown complete.\n",
      "INFO:     Finished server process [203535]\n"
     ]
    }
   ],
   "source": [
    "import asyncio\n",
    "import uvicorn\n",
    "\n",
    "if __name__ == \"__main__\":\n",
    "    config = uvicorn.Config(app)\n",
    "    server = uvicorn.Server(config)\n",
    "    await server.serve()"
   ]
  },
  {
   "cell_type": "code",
   "execution_count": 16,
   "id": "f6d78225-19fb-4c8f-847e-6acbdab77d5b",
   "metadata": {},
   "outputs": [
    {
     "name": "stdout",
     "output_type": "stream",
     "text": [
      "{'China': 86, 'India': 91, 'United States': 1, 'Indonesia': 62, 'Brazil': 55, 'Pakistan': 92, 'Bangladesh': 880, 'Nigeria': 234, 'Russia': 7, 'Japan': 81}\n"
     ]
    }
   ],
   "source": [
    "# %load dict_comprehension.py\n",
    "DIAL_CODES = [\n",
    "    (86, 'China'),\n",
    "    (91, 'India'),\n",
    "    (1, 'United States'),\n",
    "    (62, 'Indonesia'),\n",
    "    (55, 'Brazil'),\n",
    "    (92, 'Pakistan'),\n",
    "    (880, 'Bangladesh'),\n",
    "    (234, 'Nigeria'),\n",
    "    (7, 'Russia'),\n",
    "    (81, 'Japan'),\n",
    "]\n",
    "\n",
    "country_code = {country: code for code, country in DIAL_CODES}\n",
    "print(country_code, sep=' ', end='\\n')\n"
   ]
  },
  {
   "cell_type": "code",
   "execution_count": 17,
   "id": "f2896f71-64a7-41ac-bac3-a432af3dec9f",
   "metadata": {},
   "outputs": [
    {
     "data": {
      "text/plain": [
       "list"
      ]
     },
     "execution_count": 17,
     "metadata": {},
     "output_type": "execute_result"
    }
   ],
   "source": [
    "type(DIAL_CODES)"
   ]
  },
  {
   "cell_type": "code",
   "execution_count": 19,
   "id": "86afc1e6-362e-49e6-82b7-9ef63d915d4f",
   "metadata": {},
   "outputs": [
    {
     "data": {
      "text/plain": [
       "tuple"
      ]
     },
     "execution_count": 19,
     "metadata": {},
     "output_type": "execute_result"
    }
   ],
   "source": [
    "type(DIAL_CODES[0])"
=======
   "id": "413457e1-202a-4373-b31e-3a838a955d6a",
   "metadata": {},
   "source": [
    "# Search Algorithms"
   ]
  },
  {
   "cell_type": "markdown",
   "id": "596c9b60-2df6-46ce-b79e-0e8c37a92330",
   "metadata": {},
   "source": [
    "## Binary Search"
   ]
  },
  {
   "cell_type": "markdown",
   "id": "16e0a512-7b62-4a6a-92f0-37215a913224",
   "metadata": {},
   "source": [
    "Is an algorithm used to find an element in a sorted list."
>>>>>>> d63e21f (feat: update general changes)
   ]
  },
  {
   "cell_type": "code",
   "execution_count": null,
<<<<<<< HEAD
   "id": "26faf5da-1675-4df6-84b4-16d89461cb78",
=======
   "id": "cd63cd82-4909-4e32-985b-ed87beac2465",
   "metadata": {},
   "outputs": [],
   "source": []
  },
  {
   "cell_type": "markdown",
   "id": "a663a36f-b202-4860-9f4a-6a455960ae01",
   "metadata": {},
   "source": [
    "# Sort Algorithms"
   ]
  },
  {
   "cell_type": "markdown",
   "id": "2a7641ff-3784-47dc-a8c7-de5a8593f7e9",
   "metadata": {},
   "source": [
    "# Greedy Algorithm"
   ]
  },
  {
   "cell_type": "code",
   "execution_count": null,
   "id": "6c37eaf7-381d-471e-b913-77179343a486",
>>>>>>> d63e21f (feat: update general changes)
   "metadata": {},
   "outputs": [],
   "source": []
  }
 ],
 "metadata": {
  "kernelspec": {
   "display_name": "Python 3 (ipykernel)",
   "language": "python",
   "name": "python3"
  },
  "language_info": {
   "codemirror_mode": {
    "name": "ipython",
    "version": 3
   },
   "file_extension": ".py",
   "mimetype": "text/x-python",
   "name": "python",
   "nbconvert_exporter": "python",
   "pygments_lexer": "ipython3",
   "version": "3.10.12"
  }
 },
 "nbformat": 4,
 "nbformat_minor": 5
}
