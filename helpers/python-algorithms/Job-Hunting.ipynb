{
 "cells": [
  {
   "cell_type": "markdown",
   "id": "b6ad93bc-ecac-4999-ad19-83a395b92f58",
   "metadata": {},
   "source": [
    "# Believe Solutions"
   ]
  },
  {
   "cell_type": "markdown",
   "id": "a4d45e9f-488c-4f28-9652-92b57380f802",
   "metadata": {},
   "source": [
    "Believe Solutions is a company that focuses on **project management** and **talent optimization**. They conduct in-depth assessments of technical needs, align key stakeholders, monitor deliverables and team dynamics daily, and evaluate engineering skills against a competency framework. Additionally, they have access to top university graduates in the region and assess both technical and cultural needs"
   ]
  },
  {
   "cell_type": "markdown",
   "id": "6aa6a695-052b-4a02-810d-6db3fb951cc8",
   "metadata": {},
   "source": [
    "### Questions from interviewer"
   ]
  },
  {
   "cell_type": "markdown",
   "id": "006c1046-868e-4763-8e72-98df59af31ad",
   "metadata": {},
   "source": [
    "1. Why do you believe you are a fit for Believe Solutions?"
   ]
  },
  {
   "cell_type": "markdown",
   "id": "e453d681-23c6-4c97-83cd-829976c52ba9",
   "metadata": {},
   "source": [
    "### My Questions"
   ]
  },
  {
   "cell_type": "markdown",
   "id": "b20457da-2db2-4fbb-a6ff-081a46ed18b1",
   "metadata": {},
   "source": [
    "1. Cual seria la estructura el equipo en que estaría trabajando?\n",
    "2. Podria decirme algun proyecto actual o futuro de python en el cual estaria trabajando?\n",
    "3. Habria oportunidad de aprender nuevas tecnologias desempeñando el rol en cuestion?\n",
    "4. Cuales son las metricas o principales indicadores de desempeño en el equipo?"
   ]
  },
  {
   "cell_type": "code",
   "execution_count": null,
   "id": "a56f5496-5388-470e-884a-923e63272ba6",
   "metadata": {},
   "outputs": [],
   "source": []
  }
 ],
 "metadata": {
  "kernelspec": {
   "display_name": "Python 3 (ipykernel)",
   "language": "python",
   "name": "python3"
  },
  "language_info": {
   "codemirror_mode": {
    "name": "ipython",
    "version": 3
   },
   "file_extension": ".py",
   "mimetype": "text/x-python",
   "name": "python",
   "nbconvert_exporter": "python",
   "pygments_lexer": "ipython3",
   "version": "3.10.5"
  }
 },
 "nbformat": 4,
 "nbformat_minor": 5
}
