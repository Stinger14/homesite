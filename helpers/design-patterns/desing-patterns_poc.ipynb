{
 "cells": [
  {
   "cell_type": "markdown",
   "id": "47e7f939-a37e-4f31-a63d-21c6fc06d962",
   "metadata": {},
   "source": [
    "# Design patterns implemented in python"
   ]
  },
  {
   "cell_type": "markdown",
   "id": "ddae4611-2b91-4728-9263-efe9570774fe",
   "metadata": {},
   "source": [
    "## [Creational Patterns]"
   ]
  },
  {
   "cell_type": "markdown",
   "id": "dbebbca5-a8dc-4204-8800-eea4834c9813",
   "metadata": {},
   "source": [
    "Abstracts the instantiation process so that there is a logical separation between how objects are composed and finally represented."
   ]
  },
  {
   "cell_type": "markdown",
   "id": "aa3db80b-1338-468a-8d6d-02bb7f1c4ab1",
   "metadata": {},
   "source": [
    "#### Factory DP Keypoints"
   ]
  },
  {
   "cell_type": "markdown",
   "id": "85978abd-7397-4693-8caa-f3ea5e47ffff",
   "metadata": {},
   "source": [
    "- The Factory Pattern is an Interface that defers the creation of the final object to a subclass.\n",
    "- The Factory pattern is about inserting another layer/abstraction between instantiating an object and where in your code it is actually used.\n",
    "- It is unknown what or how many objects will need to be created until runtime.\n",
    "- You want to localize knowledge of the specifics of instantiating a particular object to the subclass so that the client doesn't need to be concerned about the details.\n",
    "- You want to create an external framework, that an application can import/reference, and hide the details of the specifics involved in creating the final object/product.\n",
    "- The unique factor that defines the Factory pattern, is that your project now defers the creation of objects to the subclass that the factory had delegated it to.\n",
    "\n",
    "Overall **the Factory Pattern is really about adding that extra abstraction between the object creation and where it is used**. This gives you extra options that you can more easily extend in the future.\n",
    "\n",
    "#### Terminology\n",
    "\n",
    "- **Concrete Creator**: The client application, class or method that calls the Creator (Factory method).\n",
    "- **Product Interface**: The interface describing the attributes and methods that the Factory will require in order to create the final product/object.\n",
    "- **Creator**: The Factory class. Declares the Factory method that will return the object requested from it.\n",
    "- **Concrete Product**: The object returned from the Factory. The object implements the Product interface.\n"
   ]
  },
  {
   "cell_type": "markdown",
   "id": "38df988b-dae7-4a4b-947a-de27b206815d",
   "metadata": {
    "jp-MarkdownHeadingCollapsed": true
   },
   "source": [
    "#### POC"
   ]
  },
  {
   "cell_type": "code",
   "execution_count": 4,
   "id": "aecbeddf-c2d8-46e2-bbbf-ad0daa3d73c9",
   "metadata": {},
   "outputs": [
    {
     "name": "stdout",
     "output_type": "stream",
     "text": [
      "ConcreteProductA\n"
     ]
    }
   ],
   "source": [
    "from abc import ABCMeta, abstractmethod\n",
    "\n",
    "\n",
    "class IProduct(metaclass=ABCMeta):\n",
    "    \"Class Interface (Product)\"\n",
    "\n",
    "    @staticmethod \n",
    "    @abstractmethod\n",
    "    def create_object():\n",
    "        \"An abstract interface method\"\n",
    "\n",
    "\n",
    "class ConcreteProductA(IProduct):\n",
    "    \"A Concrete Class that implements the IProduct interface\"\n",
    "    def __init__(self):\n",
    "        self.name = \"ConcreteProductA\"\n",
    "        \n",
    "    def create_object(self): \n",
    "        return self\n",
    "\n",
    "\n",
    "class ConcreteProductB(IProduct):\n",
    "    \"A Concrete Class that implements the IProduct interface\"\n",
    "    def __init__(self):\n",
    "        self.name = \"ConcreteProductB\"\n",
    "    \n",
    "    def create_object(self): \n",
    "        return self\n",
    "\n",
    "\n",
    "class ConcreteProductC(IProduct):\n",
    "    \"A Concrete Class that implements the IProduct interface\"\n",
    "    def __init__(self):\n",
    "        self.name = \"ConcreteProductC\"\n",
    "    \n",
    "    def create_object(self): \n",
    "        return self\n",
    "\n",
    "\n",
    "class Creator:\n",
    "    \"The Factory Class\"\n",
    "    \n",
    "    @staticmethod\n",
    "    def create_object(some_property):\n",
    "        \"A static method to get a concrete product\" \n",
    "        if some_property == 'a':\n",
    "            return ConcreteProductA() \n",
    "        if some_property == 'b':\n",
    "            return ConcreteProductB() \n",
    "        if some_property == 'c':\n",
    "            return ConcreteProductC() \n",
    "        return None\n",
    "\n",
    "# The Client\n",
    "PRODUCT = Creator().create_object('a')\n",
    "print(PRODUCT.name)"
   ]
  },
  {
   "cell_type": "markdown",
   "id": "f6086be2-d6ca-4094-a20c-ae80192da0f6",
   "metadata": {},
   "source": [
    "### Abstract Factory"
   ]
  },
  {
   "cell_type": "markdown",
   "id": "d30dc860-6a64-4a35-94ae-7282b14c8825",
   "metadata": {},
   "source": [
    "The Abstract Factory Pattern adds an abstraction layer over multiple other creational pattern implementations. In simple terms, think if it as a Factory that can return Factories."
   ]
  },
  {
   "cell_type": "markdown",
   "id": "edc37ce0-1634-48e2-86f4-67745c5d0ee7",
   "metadata": {},
   "source": [
    "## [Structural Patterns]"
   ]
  },
  {
   "cell_type": "code",
   "execution_count": null,
   "id": "e116b6fa-d27d-4b5d-8045-ffaa901b4e3e",
   "metadata": {},
   "outputs": [],
   "source": []
  }
 ],
 "metadata": {
  "kernelspec": {
   "display_name": "Python 3 (ipykernel)",
   "language": "python",
   "name": "python3"
  },
  "language_info": {
   "codemirror_mode": {
    "name": "ipython",
    "version": 3
   },
   "file_extension": ".py",
   "mimetype": "text/x-python",
   "name": "python",
   "nbconvert_exporter": "python",
   "pygments_lexer": "ipython3",
   "version": "3.10.5"
  }
 },
 "nbformat": 4,
 "nbformat_minor": 5
}
